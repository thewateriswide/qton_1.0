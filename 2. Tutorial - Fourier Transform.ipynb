{
 "cells": [
  {
   "cell_type": "markdown",
   "metadata": {},
   "source": [
    "# Tutorial - Fourier Transform\n",
    "---\n",
    "\n",
    "Fourier transform is a basic algorithm in quantum computing. This tutorial will display how to achieve it with Qton."
   ]
  },
  {
   "cell_type": "code",
   "execution_count": 1,
   "metadata": {},
   "outputs": [],
   "source": [
    "from numpy import pi\n",
    "from qton import Circuit"
   ]
  },
  {
   "cell_type": "markdown",
   "metadata": {},
   "source": [
    "In **Nielsen and Chuang's book**, the QFT circuit is built with a so-called $R_k$ gate,\n",
    "\\begin{align*}\n",
    "R_k \\equiv\n",
    "\\begin{bmatrix}\n",
    "1 & 0 \\\\\n",
    "0 & {\\rm e^{2\\pi{\\rm i}/2^k}}\n",
    "\\end{bmatrix}\n",
    "\\end{align*}\n",
    "\n",
    "qton doesn't have this gate directly, but we can make it with the $RZ$ gate, \n",
    "\\begin{align*}\n",
    "RZ(\\theta) \\equiv\n",
    "\\begin{bmatrix}\n",
    "{\\rm e^{-{\\rm i}\\theta/2}} & 0 \\\\\n",
    "0 & {\\rm e^{{\\rm i}\\theta/2}}\n",
    "\\end{bmatrix}\n",
    "\\end{align*}\n",
    "\n",
    "Since \n",
    "\\begin{align*}\n",
    "R_k = G(2\\pi/2^k) \\cdot RZ(2\\pi/2^k).\n",
    "\\end{align*}\n",
    "\n",
    "Here $G$ (qton hasn't this) is a gate like,\n",
    "\\begin{align*}\n",
    "G(\\theta) \\equiv\n",
    "\\begin{bmatrix}\n",
    "{\\rm e^{{\\rm i}\\theta/2}} & 0 \\\\\n",
    "0 & {\\rm e^{{\\rm i}\\theta/2}}\n",
    "\\end{bmatrix}\n",
    "\\end{align*}\n",
    "\n",
    "Notice that $G$ gate is just multiply a global phase on the circuit, so we can drop it away, and take\n",
    "\\begin{align*}\n",
    "R_k \\equiv RZ(2\\pi/2^k).\n",
    "\\end{align*}"
   ]
  },
  {
   "cell_type": "code",
   "execution_count": 2,
   "metadata": {},
   "outputs": [],
   "source": [
    "def fourier_transform(obj):\n",
    "    '''\n",
    "    This function implements fourier transform.\n",
    "    'obj' should be a Circuit object.\n",
    "    '''\n",
    "    num_qubits = obj.number_of_qubits\n",
    "    for i in range(num_qubits):\n",
    "        obj.h(i)\n",
    "        for j in range(i+1, num_qubits):\n",
    "            obj.crz(2*pi/2**(j+1), j, i)\n",
    "            \n",
    "    for i in range(num_qubits//2):\n",
    "        obj.swap(i, num_qubits-i-1)  # To reverse the order of the qubits.\n",
    "        \n",
    "    return "
   ]
  },
  {
   "cell_type": "markdown",
   "metadata": {},
   "source": [
    "Let's check the effect."
   ]
  },
  {
   "cell_type": "code",
   "execution_count": 3,
   "metadata": {},
   "outputs": [],
   "source": [
    "n = 3  # Number of the qubits.\n",
    "circ = Circuit(n)\n",
    "\n",
    "ket = [0]*2**n\n",
    "ket[0] = 1.\n",
    "circ.initialize(ket)  # Set the circuit's state with 'ket'.\n",
    "\n",
    "fourier_transform(circ)"
   ]
  },
  {
   "cell_type": "code",
   "execution_count": 4,
   "metadata": {},
   "outputs": [
    {
     "data": {
      "text/plain": [
       "array([0.35355339+0.j, 0.35355339+0.j, 0.35355339+0.j, 0.35355339+0.j,\n",
       "       0.35355339+0.j, 0.35355339+0.j, 0.35355339+0.j, 0.35355339+0.j])"
      ]
     },
     "execution_count": 4,
     "metadata": {},
     "output_type": "execute_result"
    }
   ],
   "source": [
    "circ.state"
   ]
  },
  {
   "cell_type": "markdown",
   "metadata": {},
   "source": [
    "Note here our state may differ to the standard result with a global phase, which has no effect in quantum computing."
   ]
  }
 ],
 "metadata": {
  "kernelspec": {
   "display_name": "Python 3",
   "language": "python",
   "name": "python3"
  },
  "language_info": {
   "codemirror_mode": {
    "name": "ipython",
    "version": 3
   },
   "file_extension": ".py",
   "mimetype": "text/x-python",
   "name": "python",
   "nbconvert_exporter": "python",
   "pygments_lexer": "ipython3",
   "version": "3.7.9"
  }
 },
 "nbformat": 4,
 "nbformat_minor": 4
}
